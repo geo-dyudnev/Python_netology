{
 "cells": [
  {
   "cell_type": "code",
   "execution_count": 107,
   "id": "91c273b3",
   "metadata": {},
   "outputs": [],
   "source": [
    "# Импортируем все библиотеки, что потребуются далее\n",
    "import pandas as pd\n",
    "import numpy as np\n",
    "import matplotlib.pyplot as plt\n",
    "import seaborn as sns\n",
    "from scipy import stats\n",
    "\n",
    "from sklearn.model_selection import train_test_split\n",
    "from sklearn.discriminant_analysis import LinearDiscriminantAnalysis\n",
    "from sklearn.metrics import accuracy_score"
   ]
  },
  {
   "cell_type": "markdown",
   "id": "68bb5061",
   "metadata": {},
   "source": [
    "Задание 1. Загрузите файл HR.csv в pandas dataframe"
   ]
  },
  {
   "cell_type": "code",
   "execution_count": 97,
   "id": "82a455f6",
   "metadata": {
    "scrolled": true
   },
   "outputs": [
    {
     "data": {
      "text/html": [
       "<div>\n",
       "<style scoped>\n",
       "    .dataframe tbody tr th:only-of-type {\n",
       "        vertical-align: middle;\n",
       "    }\n",
       "\n",
       "    .dataframe tbody tr th {\n",
       "        vertical-align: top;\n",
       "    }\n",
       "\n",
       "    .dataframe thead th {\n",
       "        text-align: right;\n",
       "    }\n",
       "</style>\n",
       "<table border=\"1\" class=\"dataframe\">\n",
       "  <thead>\n",
       "    <tr style=\"text-align: right;\">\n",
       "      <th></th>\n",
       "      <th>satisfaction_level</th>\n",
       "      <th>last_evaluation</th>\n",
       "      <th>number_project</th>\n",
       "      <th>average_montly_hours</th>\n",
       "      <th>time_spend_company</th>\n",
       "      <th>Work_accident</th>\n",
       "      <th>left</th>\n",
       "      <th>promotion_last_5years</th>\n",
       "      <th>department</th>\n",
       "      <th>salary</th>\n",
       "    </tr>\n",
       "  </thead>\n",
       "  <tbody>\n",
       "    <tr>\n",
       "      <th>0</th>\n",
       "      <td>0.38</td>\n",
       "      <td>0.53</td>\n",
       "      <td>2</td>\n",
       "      <td>157</td>\n",
       "      <td>3</td>\n",
       "      <td>0</td>\n",
       "      <td>1</td>\n",
       "      <td>0</td>\n",
       "      <td>sales</td>\n",
       "      <td>low</td>\n",
       "    </tr>\n",
       "    <tr>\n",
       "      <th>1</th>\n",
       "      <td>0.80</td>\n",
       "      <td>0.86</td>\n",
       "      <td>5</td>\n",
       "      <td>262</td>\n",
       "      <td>6</td>\n",
       "      <td>0</td>\n",
       "      <td>1</td>\n",
       "      <td>0</td>\n",
       "      <td>sales</td>\n",
       "      <td>medium</td>\n",
       "    </tr>\n",
       "    <tr>\n",
       "      <th>2</th>\n",
       "      <td>0.11</td>\n",
       "      <td>0.88</td>\n",
       "      <td>7</td>\n",
       "      <td>272</td>\n",
       "      <td>4</td>\n",
       "      <td>0</td>\n",
       "      <td>1</td>\n",
       "      <td>0</td>\n",
       "      <td>sales</td>\n",
       "      <td>medium</td>\n",
       "    </tr>\n",
       "    <tr>\n",
       "      <th>3</th>\n",
       "      <td>0.72</td>\n",
       "      <td>0.87</td>\n",
       "      <td>5</td>\n",
       "      <td>223</td>\n",
       "      <td>5</td>\n",
       "      <td>0</td>\n",
       "      <td>1</td>\n",
       "      <td>0</td>\n",
       "      <td>sales</td>\n",
       "      <td>low</td>\n",
       "    </tr>\n",
       "    <tr>\n",
       "      <th>4</th>\n",
       "      <td>0.37</td>\n",
       "      <td>0.52</td>\n",
       "      <td>2</td>\n",
       "      <td>159</td>\n",
       "      <td>3</td>\n",
       "      <td>0</td>\n",
       "      <td>1</td>\n",
       "      <td>0</td>\n",
       "      <td>sales</td>\n",
       "      <td>low</td>\n",
       "    </tr>\n",
       "  </tbody>\n",
       "</table>\n",
       "</div>"
      ],
      "text/plain": [
       "   satisfaction_level  last_evaluation  number_project  average_montly_hours  \\\n",
       "0                0.38             0.53               2                   157   \n",
       "1                0.80             0.86               5                   262   \n",
       "2                0.11             0.88               7                   272   \n",
       "3                0.72             0.87               5                   223   \n",
       "4                0.37             0.52               2                   159   \n",
       "\n",
       "   time_spend_company  Work_accident  left  promotion_last_5years department  \\\n",
       "0                   3              0     1                      0      sales   \n",
       "1                   6              0     1                      0      sales   \n",
       "2                   4              0     1                      0      sales   \n",
       "3                   5              0     1                      0      sales   \n",
       "4                   3              0     1                      0      sales   \n",
       "\n",
       "   salary  \n",
       "0     low  \n",
       "1  medium  \n",
       "2  medium  \n",
       "3     low  \n",
       "4     low  "
      ]
     },
     "execution_count": 97,
     "metadata": {},
     "output_type": "execute_result"
    }
   ],
   "source": [
    "hr_data = pd.read_csv('HR.csv')\n",
    "hr_data.head()"
   ]
  },
  {
   "cell_type": "markdown",
   "id": "c50adff3",
   "metadata": {},
   "source": [
    "Задание 2. Рассчитайте основные статистики для переменных(среднее, медиана, мода, мин/макс, сред. отклонение)."
   ]
  },
  {
   "cell_type": "code",
   "execution_count": 37,
   "id": "88dff3be",
   "metadata": {},
   "outputs": [
    {
     "name": "stdout",
     "output_type": "stream",
     "text": [
      "Метрики satisfaction_level:\n",
      "Среднее: 0.61\n",
      "Медиана: 0.64\n",
      "Мода: 0.1\n",
      "Среднее квадратичное оклонение: 0.25\n",
      "Минимум: 0.09\n",
      "Максимум: 1.0\n",
      "\n",
      "Метрики last_evaluation:\n",
      "Среднее: 0.72\n",
      "Медиана: 0.72\n",
      "Мода: 0.55\n",
      "Среднее квадратичное оклонение: 0.17\n",
      "Минимум: 0.36\n",
      "Максимум: 1.0\n",
      "\n",
      "Метрики number_project:\n",
      "Среднее: 3.8\n",
      "Медиана: 4.0\n",
      "Мода: 4\n",
      "Среднее квадратичное оклонение: 1.23\n",
      "Минимум: 2\n",
      "Максимум: 7\n",
      "\n",
      "Метрики average_montly_hours:\n",
      "Среднее: 201.05\n",
      "Медиана: 200.0\n",
      "Мода: 135\n",
      "Среднее квадратичное оклонение: 49.94\n",
      "Минимум: 96\n",
      "Максимум: 310\n",
      "\n",
      "Метрики time_spend_company:\n",
      "Среднее: 3.5\n",
      "Медиана: 3.0\n",
      "Мода: 3\n",
      "Среднее квадратичное оклонение: 1.46\n",
      "Минимум: 2\n",
      "Максимум: 10\n",
      "\n",
      "Метрики Work_accident:\n",
      "Мода: 0\n",
      "\n",
      "Метрики left:\n",
      "Мода: 0\n",
      "\n",
      "Метрики promotion_last_5years:\n",
      "Мода: 0\n",
      "\n",
      "Метрики department:\n",
      "Мода: sales\n",
      "\n",
      "Метрики salary:\n",
      "Мода: low\n",
      "\n"
     ]
    }
   ],
   "source": [
    "# По первым пяти столбцам можно расчитать все метрики. Для остальных - только моду.\n",
    "\n",
    "for i, column in enumerate(hr_data):\n",
    "    if i < 5:\n",
    "        mean_ = hr_data[column].mean()\n",
    "        median_ = hr_data[column].median()\n",
    "        mode_ = hr_data[column].mode()[0]\n",
    "        std_ = hr_data[column].std()\n",
    "        min_ = hr_data[column].min()\n",
    "        max_ = hr_data[column].max()\n",
    "        print(f\"Метрики {column}:\")\n",
    "        print(f\"Среднее: {round(mean_,2)}\")\n",
    "        print(f\"Медиана: {round(median_,2)}\")\n",
    "        print(f\"Мода: {round(mode_,2)}\")\n",
    "        print(f\"Среднее квадратичное оклонение: {round(std_,2)}\")\n",
    "        print(f\"Минимум: {round(min_,2)}\")\n",
    "        print(f\"Максимум: {round(max_,2)}\\n\")\n",
    "    else:\n",
    "        mode_ = hr_data[column].mode()[0]\n",
    "        print(f\"Метрики {column}:\")\n",
    "        print(f\"Мода: {mode_}\\n\")"
   ]
  },
  {
   "cell_type": "markdown",
   "id": "d0ef3128",
   "metadata": {},
   "source": [
    "Задание 3. Рассчитайте и визуализировать корреляционную матрицу для количественных переменных. Определите две самые скоррелированные и две наименее скоррелированные переменные."
   ]
  },
  {
   "cell_type": "code",
   "execution_count": 45,
   "id": "19634241",
   "metadata": {},
   "outputs": [
    {
     "data": {
      "text/plain": [
       "<AxesSubplot:>"
      ]
     },
     "execution_count": 45,
     "metadata": {},
     "output_type": "execute_result"
    },
    {
     "data": {
      "image/png": "[encoded data removed]",
      "text/plain": [
       "<Figure size 432x288 with 2 Axes>"
      ]
     },
     "metadata": {
      "needs_background": "light"
     },
     "output_type": "display_data"
    }
   ],
   "source": [
    "hr_data_numbers = hr_data[['satisfaction_level','last_evaluation','number_project','average_montly_hours','time_spend_company']]\n",
    "sns.heatmap(hr_data_numbers.corr())"
   ]
  },
  {
   "cell_type": "markdown",
   "id": "0b994299",
   "metadata": {},
   "source": [
    "Задание 4. Рассчитайте сколько сотрудников работает в каждом департаменте."
   ]
  },
  {
   "cell_type": "code",
   "execution_count": 19,
   "id": "fb34fe0d",
   "metadata": {},
   "outputs": [
    {
     "data": {
      "text/html": [
       "<div>\n",
       "<style scoped>\n",
       "    .dataframe tbody tr th:only-of-type {\n",
       "        vertical-align: middle;\n",
       "    }\n",
       "\n",
       "    .dataframe tbody tr th {\n",
       "        vertical-align: top;\n",
       "    }\n",
       "\n",
       "    .dataframe thead th {\n",
       "        text-align: right;\n",
       "    }\n",
       "</style>\n",
       "<table border=\"1\" class=\"dataframe\">\n",
       "  <thead>\n",
       "    <tr style=\"text-align: right;\">\n",
       "      <th></th>\n",
       "      <th>Count</th>\n",
       "    </tr>\n",
       "    <tr>\n",
       "      <th>department</th>\n",
       "      <th></th>\n",
       "    </tr>\n",
       "  </thead>\n",
       "  <tbody>\n",
       "    <tr>\n",
       "      <th>IT</th>\n",
       "      <td>1227</td>\n",
       "    </tr>\n",
       "    <tr>\n",
       "      <th>RandD</th>\n",
       "      <td>787</td>\n",
       "    </tr>\n",
       "    <tr>\n",
       "      <th>accounting</th>\n",
       "      <td>767</td>\n",
       "    </tr>\n",
       "    <tr>\n",
       "      <th>hr</th>\n",
       "      <td>739</td>\n",
       "    </tr>\n",
       "    <tr>\n",
       "      <th>management</th>\n",
       "      <td>630</td>\n",
       "    </tr>\n",
       "    <tr>\n",
       "      <th>marketing</th>\n",
       "      <td>858</td>\n",
       "    </tr>\n",
       "    <tr>\n",
       "      <th>product_mng</th>\n",
       "      <td>902</td>\n",
       "    </tr>\n",
       "    <tr>\n",
       "      <th>sales</th>\n",
       "      <td>4140</td>\n",
       "    </tr>\n",
       "    <tr>\n",
       "      <th>support</th>\n",
       "      <td>2229</td>\n",
       "    </tr>\n",
       "    <tr>\n",
       "      <th>technical</th>\n",
       "      <td>2720</td>\n",
       "    </tr>\n",
       "  </tbody>\n",
       "</table>\n",
       "</div>"
      ],
      "text/plain": [
       "             Count\n",
       "department        \n",
       "IT            1227\n",
       "RandD          787\n",
       "accounting     767\n",
       "hr             739\n",
       "management     630\n",
       "marketing      858\n",
       "product_mng    902\n",
       "sales         4140\n",
       "support       2229\n",
       "technical     2720"
      ]
     },
     "execution_count": 19,
     "metadata": {},
     "output_type": "execute_result"
    }
   ],
   "source": [
    "dept_count = hr_data.groupby('department').count()[['satisfaction_level']]\n",
    "dept_count.columns = ['Count']\n",
    "dept_count"
   ]
  },
  {
   "cell_type": "markdown",
   "id": "64e4f110",
   "metadata": {},
   "source": [
    "Задание 5. Показать распределение сотрудников по зарплатам."
   ]
  },
  {
   "cell_type": "code",
   "execution_count": 20,
   "id": "0d01c60f",
   "metadata": {
    "scrolled": true
   },
   "outputs": [
    {
     "data": {
      "text/plain": [
       "<AxesSubplot:title={'center':'Распределение сотрудников по зарплате'}, xlabel='salary'>"
      ]
     },
     "execution_count": 20,
     "metadata": {},
     "output_type": "execute_result"
    },
    {
     "data": {
      "image/png": "[encoded data removed]",
      "text/plain": [
       "<Figure size 432x288 with 1 Axes>"
      ]
     },
     "metadata": {
      "needs_background": "light"
     },
     "output_type": "display_data"
    }
   ],
   "source": [
    "salary_distrib = hr_data[['salary','satisfaction_level']].groupby('salary').count()\n",
    "salary_distrib.columns = ['Count']\n",
    "salary_distrib.plot(kind='bar', \n",
    "                      title = 'Распределение сотрудников по зарплате')"
   ]
  },
  {
   "cell_type": "markdown",
   "id": "a248722e",
   "metadata": {},
   "source": [
    "Задание 6. Показать распределение сотрудников по зарплатам в каждом департаменте по отдельности"
   ]
  },
  {
   "cell_type": "code",
   "execution_count": 25,
   "id": "50b83a43",
   "metadata": {},
   "outputs": [
    {
     "data": {
      "text/plain": [
       "<AxesSubplot:title={'center':'Распределение сотрудников по зарплате'}, xlabel='department'>"
      ]
     },
     "execution_count": 25,
     "metadata": {},
     "output_type": "execute_result"
    },
    {
     "data": {
      "image/png": "[encoded data removed]",
      "text/plain": [
       "<Figure size 432x288 with 1 Axes>"
      ]
     },
     "metadata": {
      "needs_background": "light"
     },
     "output_type": "display_data"
    }
   ],
   "source": [
    "hr_data_pivot = hr_data.pivot_table(index = 'department',\n",
    "                                    columns = 'salary',\n",
    "                                    values = 'satisfaction_level',\n",
    "                                    aggfunc = 'count')\n",
    "hr_data_pivot.plot(kind='bar', \n",
    "                    title = 'Распределение сотрудников по зарплате')"
   ]
  },
  {
   "cell_type": "markdown",
   "id": "0bacefd7",
   "metadata": {},
   "source": [
    "Задание 7. Проверить гипотезу, что сотрудники с высоким окладом проводят на работе больше времени, чем сотрудники с низким окладом"
   ]
  },
  {
   "cell_type": "markdown",
   "id": "4e573dfc",
   "metadata": {},
   "source": [
    "Нулевая гипотеза предплагает, что время, проведенное на работе не отличается в двух группах сотрудников. В качестве альтернативной примем гипотезу, что сотрудники с высоким окладом проводят на работе больше времени, чем сотрудники с низким окладом. Для проверки гипотезы расчитаем p-value (за уровень значимости примем 5%) и критерий Стьюдента."
   ]
  },
  {
   "cell_type": "code",
   "execution_count": 64,
   "id": "be8298d9",
   "metadata": {},
   "outputs": [
    {
     "name": "stdout",
     "output_type": "stream",
     "text": [
      "t = -0.7288680398062308\n",
      "p = 0.4661023478267259\n"
     ]
    }
   ],
   "source": [
    "high_paid_employees = hr_data[ hr_data['salary'] == 'high' ]['average_montly_hours']\n",
    "low_paid_employees = hr_data[ hr_data['salary'] == 'low' ]['average_montly_hours']\n",
    "\n",
    "\n",
    "t , p  = stats.ttest_ind(high_paid_employees, low_paid_employees)\n",
    "print('t = ' + str(t))\n",
    "print('p = ' + str(p))"
   ]
  },
  {
   "cell_type": "markdown",
   "id": "4bbdcd47",
   "metadata": {},
   "source": [
    "Значение p равное 0,466 доказывает, что средние значения двух распределений статистически неразличны. То есть мы отвергаем гипотезу, что сотрудники с высоким окладом проводят на работе больше времени, чем сотрудники с низким окладом. Крайне низкое значение критерия Стюдента также это подтверждает. Если визуализировать распределение двух выборок, то также можно увидеть, что значимых отличий нет."
   ]
  },
  {
   "cell_type": "code",
   "execution_count": 68,
   "id": "3fc40ef7",
   "metadata": {
    "scrolled": true
   },
   "outputs": [
    {
     "data": {
      "image/png": "[encoded data removed]",
      "text/plain": [
       "<Figure size 432x288 with 1 Axes>"
      ]
     },
     "metadata": {
      "needs_background": "light"
     },
     "output_type": "display_data"
    }
   ],
   "source": [
    "plt.hist(low_paid_employees, bins=20);\n",
    "plt.hist(high_paid_employees, bins=20);"
   ]
  },
  {
   "cell_type": "markdown",
   "id": "4e14d2ee",
   "metadata": {},
   "source": [
    "Задание 8. Рассчитать следующие показатели среди уволившихся и неуволившихся сотрудников (по отдельности):\n",
    "- Доля сотрудников с повышением за последние 5 лет\n",
    "- Средняя степень удовлетворенности\n",
    "- Среднее количество проектов"
   ]
  },
  {
   "cell_type": "code",
   "execution_count": 71,
   "id": "6615dd2a",
   "metadata": {},
   "outputs": [
    {
     "name": "stdout",
     "output_type": "stream",
     "text": [
      "Доля сотрудников с повышением за последние 5 лет: 0.005\n",
      "Средняя степень удовлетворенности: 0.44\n",
      "Среднее количество проектов: 3.856\n",
      "Доля сотрудников с повышением за последние 5 лет: 0.026\n",
      "Средняя степень удовлетворенности: 0.667\n",
      "Среднее количество проектов: 3.787\n"
     ]
    }
   ],
   "source": [
    "# Напишем функцию, которая будет расчитывать метрики\n",
    "def metrics(table):\n",
    "    promoted_share = table['promotion_last_5years'][table['promotion_last_5years'] == 1].count()/table['promotion_last_5years'].count()\n",
    "    satisfaction_mean = table['satisfaction_level'].mean()\n",
    "    number_projects_mean = table['number_project'].mean()\n",
    "    print(f\"Доля сотрудников с повышением за последние 5 лет: {round(promoted_share,3)}\\n\\\n",
    "Средняя степень удовлетворенности: {round(satisfaction_mean,3)}\\n\\\n",
    "Среднее количество проектов: {round(number_projects_mean,3)}\")\n",
    "    \n",
    "# Разделим датасет на два по признаку работающий/уволившийся сотрудник\n",
    "left_employees = hr_data[ hr_data['left'] == 1 ]\n",
    "working_employees = hr_data[ hr_data['left'] == 0 ]\n",
    "\n",
    "# Применим функцию к каждому датасету \n",
    "metrics(left_employees)\n",
    "metrics(working_employees)"
   ]
  },
  {
   "cell_type": "markdown",
   "id": "0e58f06d",
   "metadata": {},
   "source": [
    "Задание 9. Разделить данные на тестовую и обучающую выборки. Построить модель LDA, предсказывающую уволился ли сотрудник на основе имеющихся факторов (кроме department и salary). Оценить качество модели на тестовой выборке."
   ]
  },
  {
   "cell_type": "code",
   "execution_count": 98,
   "id": "d9360090",
   "metadata": {},
   "outputs": [],
   "source": [
    "# Разделим датасет на предикторы и целевую переменную\n",
    "outcome = hr_data['left'].values\n",
    "data = hr_data[['satisfaction_level','last_evaluation','number_project','average_montly_hours','time_spend_company','Work_accident','promotion_last_5years']]"
   ]
  },
  {
   "cell_type": "code",
   "execution_count": 112,
   "id": "1a9b7bd5",
   "metadata": {},
   "outputs": [
    {
     "data": {
      "text/plain": [
       "array([0, 0, 0, ..., 0, 0, 0], dtype=int64)"
      ]
     },
     "execution_count": 112,
     "metadata": {},
     "output_type": "execute_result"
    }
   ],
   "source": [
    "# Разделяем выборку на тренировочную и тестовую\n",
    "X_train, X_test, y_train, y_test = train_test_split(data, outcome, test_size=0.25)\n",
    "\n",
    "# Импортируем LDA-функционал\n",
    "lda = LinearDiscriminantAnalysis()\n",
    "\n",
    "# Обучаем модель\n",
    "lda.fit(X_train, y_train)\n",
    "\n",
    "# Делаем прогноз на тестовой выборке\n",
    "lda.predict(X_test)"
   ]
  },
  {
   "cell_type": "code",
   "execution_count": 111,
   "id": "1f50c9c0",
   "metadata": {},
   "outputs": [
    {
     "data": {
      "text/html": [
       "<div>\n",
       "<style scoped>\n",
       "    .dataframe tbody tr th:only-of-type {\n",
       "        vertical-align: middle;\n",
       "    }\n",
       "\n",
       "    .dataframe tbody tr th {\n",
       "        vertical-align: top;\n",
       "    }\n",
       "\n",
       "    .dataframe thead th {\n",
       "        text-align: right;\n",
       "    }\n",
       "</style>\n",
       "<table border=\"1\" class=\"dataframe\">\n",
       "  <thead>\n",
       "    <tr style=\"text-align: right;\">\n",
       "      <th></th>\n",
       "      <th>0</th>\n",
       "      <th>1</th>\n",
       "    </tr>\n",
       "  </thead>\n",
       "  <tbody>\n",
       "    <tr>\n",
       "      <th>0</th>\n",
       "      <td>0</td>\n",
       "      <td>1</td>\n",
       "    </tr>\n",
       "    <tr>\n",
       "      <th>1</th>\n",
       "      <td>1</td>\n",
       "      <td>0</td>\n",
       "    </tr>\n",
       "    <tr>\n",
       "      <th>2</th>\n",
       "      <td>0</td>\n",
       "      <td>0</td>\n",
       "    </tr>\n",
       "    <tr>\n",
       "      <th>3</th>\n",
       "      <td>0</td>\n",
       "      <td>0</td>\n",
       "    </tr>\n",
       "    <tr>\n",
       "      <th>4</th>\n",
       "      <td>1</td>\n",
       "      <td>0</td>\n",
       "    </tr>\n",
       "    <tr>\n",
       "      <th>...</th>\n",
       "      <td>...</td>\n",
       "      <td>...</td>\n",
       "    </tr>\n",
       "    <tr>\n",
       "      <th>3745</th>\n",
       "      <td>0</td>\n",
       "      <td>0</td>\n",
       "    </tr>\n",
       "    <tr>\n",
       "      <th>3746</th>\n",
       "      <td>0</td>\n",
       "      <td>0</td>\n",
       "    </tr>\n",
       "    <tr>\n",
       "      <th>3747</th>\n",
       "      <td>0</td>\n",
       "      <td>0</td>\n",
       "    </tr>\n",
       "    <tr>\n",
       "      <th>3748</th>\n",
       "      <td>1</td>\n",
       "      <td>1</td>\n",
       "    </tr>\n",
       "    <tr>\n",
       "      <th>3749</th>\n",
       "      <td>1</td>\n",
       "      <td>0</td>\n",
       "    </tr>\n",
       "  </tbody>\n",
       "</table>\n",
       "<p>3750 rows × 2 columns</p>\n",
       "</div>"
      ],
      "text/plain": [
       "      0  1\n",
       "0     0  1\n",
       "1     1  0\n",
       "2     0  0\n",
       "3     0  0\n",
       "4     1  0\n",
       "...  .. ..\n",
       "3745  0  0\n",
       "3746  0  0\n",
       "3747  0  0\n",
       "3748  1  1\n",
       "3749  1  0\n",
       "\n",
       "[3750 rows x 2 columns]"
      ]
     },
     "execution_count": 111,
     "metadata": {},
     "output_type": "execute_result"
    }
   ],
   "source": [
    "# Смотрим разницу факта и прогноза\n",
    "result = pd.DataFrame([y_test, lda.predict(X_test)]).T\n",
    "result"
   ]
  },
  {
   "cell_type": "code",
   "execution_count": 114,
   "id": "1a4cade9",
   "metadata": {},
   "outputs": [
    {
     "data": {
      "text/plain": [
       "array([[-4.69670478e+00,  7.96478339e-01, -2.42104518e-01,\n",
       "         4.36151217e-03,  2.32897940e-01, -1.12968362e+00,\n",
       "        -1.09841530e+00]])"
      ]
     },
     "execution_count": 114,
     "metadata": {},
     "output_type": "execute_result"
    }
   ],
   "source": [
    "# Коэффициенты\n",
    "lda.coef_"
   ]
  },
  {
   "cell_type": "code",
   "execution_count": 113,
   "id": "c7e5f9f4",
   "metadata": {},
   "outputs": [
    {
     "data": {
      "text/plain": [
       "0.7488"
      ]
     },
     "execution_count": 113,
     "metadata": {},
     "output_type": "execute_result"
    }
   ],
   "source": [
    "# Оценим точность модели\n",
    "accuracy_score(y_test, lda.predict(X_test))"
   ]
  }
 ],
 "metadata": {
  "kernelspec": {
   "display_name": "Python 3 (ipykernel)",
   "language": "python",
   "name": "python3"
  },
  "language_info": {
   "codemirror_mode": {
    "name": "ipython",
    "version": 3
   },
   "file_extension": ".py",
   "mimetype": "text/x-python",
   "name": "python",
   "nbconvert_exporter": "python",
   "pygments_lexer": "ipython3",
   "version": "3.9.7"
  }
 },
 "nbformat": 4,
 "nbformat_minor": 5
}
